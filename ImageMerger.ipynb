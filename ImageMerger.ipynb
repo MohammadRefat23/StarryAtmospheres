{
 "cells": [
  {
   "cell_type": "code",
   "execution_count": 2,
   "metadata": {},
   "outputs": [],
   "source": [
    "### Importing Packages\n",
    "\n",
    "import numpy as np\n",
    "import PIL\n",
    "from PIL import Image\n",
    "import os\n",
    "import glob\n",
    "from natsort import natsorted"
   ]
  },
  {
   "cell_type": "markdown",
   "metadata": {},
   "source": [
    "# Merging images with Python\n",
    "To merge the Light Curves and Surface Maps, the PIL package is needed. For PIL to do this, the images need to be the same size. In this notebook, we will resize the Surface Map to match the size of the Light Curve."
   ]
  },
  {
   "cell_type": "code",
   "execution_count": 11,
   "metadata": {},
   "outputs": [],
   "source": [
    "### Create lists with the full paths to each map and light curve image file\n",
    "\n",
    "## Create a list with just the string of the image path of the maps\n",
    "map_dir = glob.glob(\"RotationSplit_r5_0degree_ydeg3/Maps/*.jpg\")\n",
    "\n",
    "## Add the rest of the directory to the string\n",
    "map_dir2 = []\n",
    "for file in map_dir:\n",
    "    map_dir2.append(os.path.abspath(file))\n",
    "\n",
    "## Create a list with just the string of the image path of the Light Curves\n",
    "curve_dir = glob.glob(\"RotationSplit_r5_0degree_ydeg3/LightCurves/*.jpg\")\n",
    "\n",
    "## Add the rest of the directory to the string\n",
    "curve_dir2 = []\n",
    "for file in curve_dir:\n",
    "    curve_dir2.append(os.path.abspath(file))"
   ]
  },
  {
   "cell_type": "code",
   "execution_count": 12,
   "metadata": {},
   "outputs": [],
   "source": [
    "### Sort the items in the correct order\n",
    "\n",
    "map_dir3 = natsorted(map_dir2)\n",
    "curve_dir3 = natsorted(curve_dir2)"
   ]
  },
  {
   "cell_type": "code",
   "execution_count": 9,
   "metadata": {},
   "outputs": [],
   "source": [
    "### Function to merge images\n",
    "\n",
    "def ImageMerger(maps,curves, ydeg): \n",
    "    ## Open a map\n",
    "    Map=Image.open(maps)\n",
    "    ## Open a Light Curve\n",
    "    Curve=Image.open(curves)\n",
    "    ## Resize map, because two images need to be the same size for PIL to be able to merge them\n",
    "    Map=Map.resize((864,288))\n",
    "    ## Match the size between the Map and Light Curve\n",
    "    Map_size=Map.size\n",
    "    Curve_size=Curve.size\n",
    "    ## Create the new image with both the Map and Light Curve\n",
    "    MapCurve=Image.new(\"RGB\",(2*Map_size[0],Map_size[1]),(250,250,250))\n",
    "    MapCurve.paste(Map,(0,0))\n",
    "    MapCurve.paste(Curve,(Map_size[0],0))\n",
    "    MapCurve.save(\"PlotMaps\"+\"_ydeg\"+str(ydeg)+\"/\"+str(i)+\".jpg\",\"JPEG\")"
   ]
  },
  {
   "cell_type": "code",
   "execution_count": 13,
   "metadata": {},
   "outputs": [],
   "source": [
    "### Using the Function\n",
    "\n",
    "for i in range(len(map_dir3)-1):\n",
    "    ImageMerger(map_dir3[i],curve_dir3[i], 3)"
   ]
  },
  {
   "cell_type": "code",
   "execution_count": null,
   "metadata": {},
   "outputs": [],
   "source": []
  }
 ],
 "metadata": {
  "kernelspec": {
   "display_name": "new-starry",
   "language": "python",
   "name": "new-starry"
  },
  "language_info": {
   "codemirror_mode": {
    "name": "ipython",
    "version": 3
   },
   "file_extension": ".py",
   "mimetype": "text/x-python",
   "name": "python",
   "nbconvert_exporter": "python",
   "pygments_lexer": "ipython3",
   "version": "3.7.7"
  }
 },
 "nbformat": 4,
 "nbformat_minor": 5
}
